{
 "cells": [
  {
   "cell_type": "markdown",
   "metadata": {
    "slideshow": {
     "slide_type": "slide"
    }
   },
   "source": [
    "# OPL model:  scheduling.mod  + supplydata.dat\n",
    "\n",
    "##  Converted to a python gurobi model, basic steps:\n",
    "\n",
    "* Convert OPL dat file to a JSON file  \n",
    "* Copy OPL mod file to a python editor and ...\n",
    "* Change OPL parameters and sets to python structures\n",
    "+ Read in the JSON file\n",
    "+ Use JSON data to initialize more python data\n",
    "+ Create gurobi variables for each OPL dvar\n",
    "+ Convert OPL objective function to gurobi python\n",
    "+ Convert each OPL constraint to python\n",
    "+ Solve the model"
   ]
  },
  {
   "cell_type": "markdown",
   "metadata": {
    "slideshow": {
     "slide_type": "notes"
    }
   },
   "source": [
    "General notes"
   ]
  },
  {
   "cell_type": "markdown",
   "metadata": {
    "slideshow": {
     "slide_type": "slide"
    }
   },
   "source": [
    "#### Basic imports for python and Gurobi:"
   ]
  },
  {
   "cell_type": "code",
   "execution_count": null,
   "metadata": {
    "collapsed": true,
    "slideshow": {
     "slide_type": "fragment"
    }
   },
   "outputs": [],
   "source": [
    "from __future__ import print_function\n",
    "import itertools\n",
    "from collections import namedtuple\n",
    "import json\n",
    "import pandas as pd\n",
    "import gurobipy as grb\n",
    "GRB = grb.GRB"
   ]
  },
  {
   "cell_type": "markdown",
   "metadata": {
    "slideshow": {
     "slide_type": "slide"
    }
   },
   "source": [
    "### Note the difference between OPL ranges and Python ranges:\n",
    "\n",
    "OPL Code:\n",
    "\n",
    "    int Nperiods = 4;\n",
    "    range Periods   = 1..Nperiods;\n",
    "    range ZPeriods  = 0..Nperiods;\n",
    "    range Products  = 1..2;\n",
    "    range Factories = 1..2;\n",
    "    range Stages    = 2..3;"
   ]
  },
  {
   "cell_type": "code",
   "execution_count": null,
   "metadata": {
    "collapsed": false,
    "slideshow": {
     "slide_type": "fragment"
    }
   },
   "outputs": [],
   "source": [
    "Nperiods = 4\n",
    "Periods = list(range(1, Nperiods+1))\n",
    "ZPeriods = list(range(0, Nperiods+1))\n",
    "Products = ['1','2']\n",
    "Factories = ['1','2']\n",
    "Stages = [2,3]"
   ]
  },
  {
   "cell_type": "markdown",
   "metadata": {
    "slideshow": {
     "slide_type": "fragment"
    }
   },
   "source": [
    "Changes going from OPL to Python:\n",
    "\n",
    "* OPL uses \"..\";  Python uses \"range()\" method\n",
    "* Python is not a typed language, so OPL's \"int\" and \"float\" are discarded.\n",
    "* Some ranges are converted to strings, since they are used as keys.\n",
    "* We leave other ranges as numbers, because computations are done with time and stages in this model."
   ]
  },
  {
   "cell_type": "markdown",
   "metadata": {
    "slideshow": {
     "slide_type": "slide"
    }
   },
   "source": [
    "#### Next step is to convert the OPL dat file to a JSON file, using our opl2json utility:\n",
    "\n",
    "Here is a fragment of the OPL .dat file: \n",
    "\n",
    "    ProdCost = #[\n",
    "                  1: [ 1    0.5 ]    // Factory 1\n",
    "                  2: [ 0.5  0.25 ]   // Factory 2\n",
    "                ]#;\n",
    "                \n",
    "    MovCost_FDC = [ 0.1 0.3 ];           \n",
    "\n",
    "and the JSON file created from OPL dat file by running our opl2json utility:\n",
    "\n",
    "    \"ProdCost\" : {\n",
    "    \"1\": [ 1, 0.5 ],\n",
    "    \"2\": [ 0.5, 0.25 ]\n",
    "    },\n",
    "\n",
    "    \"MovCost_FDC\" : [ 0.1, 0.3 ],\n"
   ]
  },
  {
   "cell_type": "markdown",
   "metadata": {
    "slideshow": {
     "slide_type": "fragment"
    }
   },
   "source": [
    "JSON = Java Script Object Notation\n",
    "\n",
    "JSON keys are in quotes."
   ]
  },
  {
   "cell_type": "markdown",
   "metadata": {
    "slideshow": {
     "slide_type": "slide"
    }
   },
   "source": [
    "### Now we are ready to read in the OPL data into our python program\n",
    "\n",
    "All the data from the original .dat file should now be in the JSON file.\n",
    "\n",
    "Use the json python package to read in a JSON file:"
   ]
  },
  {
   "cell_type": "code",
   "execution_count": null,
   "metadata": {
    "collapsed": true,
    "slideshow": {
     "slide_type": "fragment"
    }
   },
   "outputs": [],
   "source": [
    "with open('supplydata1.json') as f:\n",
    "    d = json.loads(f.read())"
   ]
  },
  {
   "cell_type": "markdown",
   "metadata": {
    "slideshow": {
     "slide_type": "fragment"
    }
   },
   "source": [
    "The python dictionary \"d\" now contains all the data from the OPL .dat file:\n",
    "\n",
    "    {\n",
    "     u'ProdCost': {u'1': [1, 0.5], u'2': [0.5, 0.25]},\n",
    "     u'MovCost_FDC': [0.1, 0.3],\n",
    "     ..."
   ]
  },
  {
   "cell_type": "markdown",
   "metadata": {
    "slideshow": {
     "slide_type": "slide"
    }
   },
   "source": [
    "### This next part of converting from OPL to python is critical.  If the data from OPL is converted correctly, then the rest of the model conversion is easy and straightforward.\n",
    "\n",
    "For example, if the OPL model uses a data structure like this: \n",
    "\n",
    "y[i,2,j,t-1]  &nbsp;&nbsp;&nbsp;&nbsp;    <---- Note 4 indices\n",
    "\n",
    "then we want to create a python data structure called \"y\" that has four indices. (Use a python dictionary with a 4-tuple key) and in this case the second and fourth indices need to be numeric.\n",
    "\n",
    "If OPL has: \n",
    "\n",
    "bnd.v   &nbsp;&nbsp;&nbsp;&nbsp;&nbsp;         <---- Note use of \"dot\" notation\n",
    "\n",
    "then python variable \"bnd\" needs to support the dot notation. (Use namedtuple or pandas series)\n",
    "\n",
    "From the json data, we recreate each OPL param and set with python data structures:"
   ]
  },
  {
   "cell_type": "markdown",
   "metadata": {
    "slideshow": {
     "slide_type": "slide"
    }
   },
   "source": [
    "We create a python variable to match every OPL variable, with data from the python dictionary \"d\":"
   ]
  },
  {
   "cell_type": "code",
   "execution_count": null,
   "metadata": {
    "collapsed": true,
    "slideshow": {
     "slide_type": "fragment"
    }
   },
   "outputs": [],
   "source": [
    "RequiredLotSize = d['RequiredLotSize']\n",
    "Demand = {(i, j, k): d['Demand'][str(i)][j][k-1] for i in Stages \n",
    "                                                  for j in Products \n",
    "                                                  for k in Periods}\n",
    "ProdCost = {(i, j): d['ProdCost'][i][idx] for i in Factories \n",
    "                                        for idx, j in enumerate(Products)}\n",
    "ProdTime = {(i, j): d['ProdTime'][i][idx] for i in Factories \n",
    "                                        for idx, j in enumerate(Products)}\n",
    "HoldCost = d['HoldCost']\n",
    "MovCost_FDC = {j: d['MovCost_FDC'][idx] for idx, j in enumerate(Factories)}\n",
    "MovCost_FC = {j: d['MovCost_FC'][idx] for idx, j in enumerate(Factories)}\n",
    "MovCost_DCC = d['MovCost_DCC']\n",
    "TardCost_DC = {j: d['TardCost_DC'][idx] for idx, j in enumerate(Products)}\n",
    "TardCost_C = {j: d['TardCost_C'][idx] for idx, j in enumerate(Products)}\n",
    "Penalty = d['Penalty']\n",
    "bnd = namedtuple('bnd','type F S P v')\n",
    "bnds = [bnd(*mybnd) for mybnd in d['bnds']]"
   ]
  },
  {
   "cell_type": "markdown",
   "metadata": {
    "slideshow": {
     "slide_type": "slide"
    }
   },
   "source": [
    "### With python data taking the same parameters as the OPL, we just convert OPL syntax to python syntax:\n",
    "\n",
    "OPL code:\n",
    "\n",
    "    float MaxProduction = \n",
    "            sum (k in Stages, j in Products, t in Periods)  Demand[k,j,t];\n",
    "\n",
    "    int  LotSize = maxl(RequiredLotSize, 1);"
   ]
  },
  {
   "cell_type": "code",
   "execution_count": null,
   "metadata": {
    "collapsed": false,
    "slideshow": {
     "slide_type": "fragment"
    }
   },
   "outputs": [],
   "source": [
    "MaxProduction = sum ([Demand[k,j,t] for k in Stages \n",
    "                                    for j in Products \n",
    "                                    for t in Periods]) \n",
    "\n",
    "LotSize = max(RequiredLotSize, 1);"
   ]
  },
  {
   "cell_type": "markdown",
   "metadata": {
    "slideshow": {
     "slide_type": "fragment"
    }
   },
   "source": [
    "Note the difference in syntax: python uses the word \"for\", and doesn't use commas."
   ]
  },
  {
   "cell_type": "markdown",
   "metadata": {
    "slideshow": {
     "slide_type": "slide"
    }
   },
   "source": [
    "### For creating model variables, we use a couple helper functions.\n",
    "\n"
   ]
  },
  {
   "cell_type": "code",
   "execution_count": null,
   "metadata": {
    "collapsed": true,
    "slideshow": {
     "slide_type": "fragment"
    }
   },
   "outputs": [],
   "source": [
    "def make_name(*args):\n",
    "    return\".\".join(str(arg) for arg in args)\n",
    "\n",
    "def get_vars(model, name, *indices, **kwargs):\n",
    "    \"\"\"\n",
    "    returns a dictionary of variables,\n",
    "    for  all combinations of indices\n",
    "    \"\"\"\n",
    "    return pd.Series({keys: model.addVar(name=make_name(name, *keys), **kwargs)\n",
    "                      for keys in itertools.product(*indices)})"
   ]
  },
  {
   "cell_type": "markdown",
   "metadata": {
    "slideshow": {
     "slide_type": "slide"
    }
   },
   "source": [
    "### Convert OPL dvar's to gurobi variables:\n",
    "\n",
    "OPL code:\n",
    "\n",
    "    dvar float+    x[Factories, Products, Periods];\n",
    "    dvar int+      y[Factories, Stages, Products, Periods] in 0..maxint;\n",
    "    dvar float+    z[Products, Periods];\n",
    "    dvar float+    q2[Products, ZPeriods];\n",
    "    dvar float+    v2[Products, Periods];\n",
    "    dvar float+    v3[Products, ZPeriods];\n",
    "    dvar boolean   yb[bnds, Periods];\n",
    "    dvar boolean   q2b[Products, Periods];\n",
    "    dvar boolean   v2b[Products, Periods];\n",
    "    dvar boolean   v3b[Products, Periods];\n",
    "    dvar int       xlots[Factories, Products, Periods] in 0 .. ftoi(MaxProduction/LotSize);"
   ]
  },
  {
   "cell_type": "markdown",
   "metadata": {
    "slideshow": {
     "slide_type": "slide"
    }
   },
   "source": [
    "We create the gurobi model, then for each OPL dvar, we create a corresponding gurobi variable, using the get_vars helper function:"
   ]
  },
  {
   "cell_type": "code",
   "execution_count": null,
   "metadata": {
    "collapsed": false,
    "slideshow": {
     "slide_type": "fragment"
    }
   },
   "outputs": [],
   "source": [
    "\n",
    "model = grb.Model()\n",
    "x = get_vars(model, 'x', Factories, Products, Periods)\n",
    "y = get_vars(model, 'y', Factories, Stages, Products, Periods, \n",
    "             vtype=GRB.INTEGER)\n",
    "z = get_vars(model, 'z', Products, Periods)\n",
    "q2 = get_vars(model, 'q2', Products, ZPeriods)\n",
    "v2 = get_vars(model, 'v2', Products, Periods)\n",
    "v3 = get_vars(model, 'v3', Products, ZPeriods)\n",
    "yb = get_vars(model, 'yb', bnds, Periods, vtype=GRB.BINARY)\n",
    "\n",
    "q2b = get_vars(model, 'q2b', Products, Periods, vtype=GRB.BINARY)\n",
    "v2b = get_vars(model, 'v2b', Products, Periods, vtype=GRB.BINARY)\n",
    "v3b = get_vars(model, 'v3b', Products, Periods, vtype=GRB.BINARY)\n",
    "xlots = get_vars(model, 'xlots', Factories, Products, Periods,\n",
    "                 vtype=GRB.INTEGER, ub=int(MaxProduction/LotSize))\n",
    "model.update()"
   ]
  },
  {
   "cell_type": "markdown",
   "metadata": {
    "slideshow": {
     "slide_type": "fragment"
    }
   },
   "source": [
    "After adding the variables, be sure to update the gurobi model so that you can add the objective function and constraints!"
   ]
  },
  {
   "cell_type": "markdown",
   "metadata": {
    "slideshow": {
     "slide_type": "slide"
    }
   },
   "source": [
    "### Setting the objective function\n",
    "\n",
    "Use the gurobi method setObjective().\n",
    "\n",
    "The OPL sum needs to be converted to Gurobi quicksum, rather than just python sum, to be able to handle gurobi variables:"
   ]
  },
  {
   "cell_type": "markdown",
   "metadata": {
    "slideshow": {
     "slide_type": "fragment"
    }
   },
   "source": [
    "OPL Objective:\n",
    "\n",
    "    minimize\n",
    "       sum(t in Periods, j in Products, i in Factories) ProdCost[i,j]*x[i,j,t] +\n",
    "       sum(t in Periods, j in Products, i in Factories) MovCost_FDC[i]*y[i,2,j,t] +\n",
    "       sum(t in Periods, j in Products, i in Factories) MovCost_FC[i]*y[i,3,j,t] +\n",
    "       sum(t in Periods, j in Products)                 MovCost_DCC*z[j,t] +\n",
    "       sum(t in Periods, j in Products)                 HoldCost*q2[j,t] +\n",
    "       sum(t in 1 .. Nperiods-1, j in Products)         7*TardCost_DC[j]*v2[j,t] +\n",
    "       sum(t in 1 .. Nperiods-1, j in Products)         7*TardCost_C[j]*v3[j,t] +\n",
    "       sum(j in Products)                  Penalty*(v2[j,Nperiods] + v3[j,Nperiods]);"
   ]
  },
  {
   "cell_type": "code",
   "execution_count": null,
   "metadata": {
    "collapsed": false,
    "slideshow": {
     "slide_type": "slide"
    }
   },
   "outputs": [],
   "source": [
    "model.setObjective(\n",
    "        grb.quicksum([ProdCost[i,j]*x[i,j,t] for i in Factories \n",
    "                                             for j in Products \n",
    "                                             for t in Periods]) +\n",
    "        grb.quicksum([MovCost_FDC[i]*y[i,2,j,t] for i in Factories \n",
    "                                                for j in Products \n",
    "                                                for t in Periods]) +\n",
    "        grb.quicksum([MovCost_FC[i]*y[i,3,j,t] for i in Factories \n",
    "                                               for j in Products \n",
    "                                               for t in Periods]) +\n",
    "        grb.quicksum([MovCost_DCC*z[j,t] for j in Products \n",
    "                                         for t in Periods]) +\n",
    "        grb.quicksum([HoldCost*q2[j,t] for j in Products \n",
    "                                       for t in Periods]) +\n",
    "        grb.quicksum([7*TardCost_DC[j]*v2[j,t] for j in Products \n",
    "                                               for t in Periods[:-1]]) +\n",
    "        grb.quicksum([7*TardCost_C[j]*v3[j,t] for j in Products \n",
    "                                              for t in Periods[:-1]]) +\n",
    "        grb.quicksum([Penalty*(v2[j,Nperiods] + v3[j,Nperiods]) \n",
    "                                              for j in Products]),  \n",
    "    sense=GRB.MINIMIZE)"
   ]
  },
  {
   "cell_type": "markdown",
   "metadata": {
    "slideshow": {
     "slide_type": "fragment"
    }
   },
   "source": [
    "The expression inside quicksum is exactly the same as the OPL expression."
   ]
  },
  {
   "cell_type": "markdown",
   "metadata": {
    "slideshow": {
     "slide_type": "slide"
    }
   },
   "source": [
    "### Helper function for constraints:"
   ]
  },
  {
   "cell_type": "code",
   "execution_count": null,
   "metadata": {
    "collapsed": true,
    "slideshow": {
     "slide_type": "fragment"
    }
   },
   "outputs": [],
   "source": [
    "def addConstr(expr):\n",
    "    model.addConstr(expr)"
   ]
  },
  {
   "cell_type": "markdown",
   "metadata": {
    "slideshow": {
     "slide_type": "fragment"
    }
   },
   "source": [
    "The remaining conversion is a one-to-one correspondance of each OPL statement to a Python statement.\n",
    "\n",
    "Most of the OPL expressions are identical to the python expressions."
   ]
  },
  {
   "cell_type": "markdown",
   "metadata": {
    "slideshow": {
     "slide_type": "slide"
    }
   },
   "source": [
    "OPL code:\n",
    "\n",
    "    subject to\n",
    "    {\n",
    "       if (RequiredLotSize > 0)\n",
    "          forall (i in Factories, j in Products, t in Periods)\n",
    "             x[i,j,t] == RequiredLotSize*xlots[i,j,t];\n",
    "       else\n",
    "          forall (i in Factories, j in Products, t in Periods)\n",
    "             xlots[i,j,t] == 0;"
   ]
  },
  {
   "cell_type": "code",
   "execution_count": null,
   "metadata": {
    "collapsed": true,
    "slideshow": {
     "slide_type": "fragment"
    }
   },
   "outputs": [],
   "source": [
    "if RequiredLotSize > 0:    \n",
    "    [addConstr(x[i,j,t] == RequiredLotSize*xlots[i,j,t]) \n",
    "         for i in Factories for j in Products for t in Periods]\n",
    "else:\n",
    "    [addConstr(xlots[i,j,t] == 0) \n",
    "         for i in Factories for j in Products for t in Periods]     "
   ]
  },
  {
   "cell_type": "markdown",
   "metadata": {
    "slideshow": {
     "slide_type": "fragment"
    }
   },
   "source": [
    "Using python list comprehension here makes the correspondance clear between OPL and Python."
   ]
  },
  {
   "cell_type": "markdown",
   "metadata": {
    "slideshow": {
     "slide_type": "slide"
    }
   },
   "source": [
    "OPL code:\n",
    "\n",
    "       // Production Capacity\n",
    "       forall (t in Periods, i in Factories)\n",
    "          sum (j in Products) ProdTime[i,j]*x[i,j,t] <= 168;"
   ]
  },
  {
   "cell_type": "code",
   "execution_count": null,
   "metadata": {
    "collapsed": false,
    "slideshow": {
     "slide_type": "fragment"
    }
   },
   "outputs": [],
   "source": [
    "[addConstr(grb.quicksum([ProdTime[i,j]*x[i,j,t] for j in Products]) <= 168) \n",
    "            for t in Periods for i in Factories]"
   ]
  },
  {
   "cell_type": "markdown",
   "metadata": {
    "slideshow": {
     "slide_type": "fragment"
    }
   },
   "source": [
    "Use gurobi's quicksum method if we are summing gurobi variables!"
   ]
  },
  {
   "cell_type": "markdown",
   "metadata": {
    "slideshow": {
     "slide_type": "slide"
    }
   },
   "source": [
    "OPL Code:\n",
    "    \n",
    "       // Disjunctive bounds for lower bounds, or specified upper bounds.\n",
    "       forall (b in bnds, t in Periods) {\n",
    "          if (b.type == \"L\") {\n",
    "             y[b.F, b.S, b.P, t] >= yb[b,t]*b.v;\n",
    "             y[b.F, b.S, b.P, t] <= yb[b,t]*MaxProduction;\n",
    "          }\n",
    "          if (b.type == \"U\") {\n",
    "             y[b.F, b.S, b.P, t] <= b.v;\n",
    "             yb[b,t] == 0;\n",
    "          }\n",
    "       }"
   ]
  },
  {
   "cell_type": "code",
   "execution_count": null,
   "metadata": {
    "collapsed": false,
    "slideshow": {
     "slide_type": "fragment"
    }
   },
   "outputs": [],
   "source": [
    "[(addConstr(y[b.F, b.S, b.P, t] >= yb[b,t]*b.v), \n",
    "  addConstr(y[b.F, b.S, b.P, t] <= yb[b,t]*MaxProduction))\n",
    "     for b in bnds for t in Periods if b.type == 'L']\n",
    "\n",
    "[(addConstr(y[b.F, b.S, b.P, t] <= b.v), \n",
    "  addConstr(yb[b,t] == 0))\n",
    "    for b in bnds for t in Periods if b.type == 'U']"
   ]
  },
  {
   "cell_type": "markdown",
   "metadata": {
    "slideshow": {
     "slide_type": "fragment"
    }
   },
   "source": [
    "We could have used python \"for\" statements here to mimic the OPL more closely."
   ]
  },
  {
   "cell_type": "markdown",
   "metadata": {
    "slideshow": {
     "slide_type": "slide"
    }
   },
   "source": [
    "OPL Code:\n",
    "\n",
    "       // Transportation constraints\n",
    "       forall (t in Periods, j in Products, i in Factories)\n",
    "          sum (l in Stages) y[i,l,j,t] == x[i,j,t];\n",
    "\n",
    "       forall (t in Periods, j in Products : t < 4)\n",
    "          sum (i in Factories) y[i,3,j,t] + z[j,t] <= Demand[3,j,t+1] + v3[j,t];\n",
    "\n",
    "       forall (j in Products)\n",
    "          z[j,1] <= q2[j,0];  // RHS should be max(0,q2[j,0]), but this is the same\n",
    "\n",
    "       forall (t in Periods, j in Products : t > 1)\n",
    "          z[j,t] <= q2[j,t-1] + sum (i in Factories) y[i,2,j,t-1];"
   ]
  },
  {
   "cell_type": "code",
   "execution_count": null,
   "metadata": {
    "collapsed": false,
    "slideshow": {
     "slide_type": "fragment"
    }
   },
   "outputs": [],
   "source": [
    "[addConstr(grb.quicksum([y[i,l,j,t] for l in Stages]) == x[i,j,t]) \n",
    "           for t in Periods for j in Products for i in Factories]\n",
    "\n",
    "[addConstr(grb.quicksum([y[i,3,j,t] for i in Factories]) + z[j,t] <= \n",
    "                       Demand[3,j,t+1] + v3[j,t]) \n",
    "           for t in Periods[:-1] for j in Products]\n",
    "# or       for t in Periods for j in Products if t < 4]\n",
    "\n",
    "[addConstr(z[j,1] <= q2[j,0]) \n",
    "           for j in Products]\n",
    "\n",
    "[addConstr(z[j,t] <= q2[j,t-1] + grb.quicksum([y[i,2,j,t-1] for i in Factories])) \n",
    "           for t in Periods for j in Products if t > 1]"
   ]
  },
  {
   "cell_type": "markdown",
   "metadata": {
    "slideshow": {
     "slide_type": "slide"
    }
   },
   "source": [
    "OPL Code:\n",
    "\n",
    "    // Storage constraints\n",
    "       forall (j in Products) {\n",
    "          q2[j,1] >= q2[j,0] - Demand[2,j,1] - z[j,1];\n",
    "          q2[j,1] <= q2b[j,1]*MaxProduction;\n",
    "          q2[j,1] <= q2[j,0] - Demand[2,j,1] - z[j,1] + MaxProduction - \n",
    "                                                  MaxProduction*q2b[j,1];\n",
    "          forall (t in Periods : t > 1) {\n",
    "             q2[j,t] >= q2[j,t-1] + sum (i in Factories) y[i,2,j,t-1] - \n",
    "                                        Demand[2,j,t] - z[j,t] - v2[j,t-1];\n",
    "             q2[j,t] <= q2b[j,t]*MaxProduction;\n",
    "             q2[j,t] <= q2[j,t-1] + sum (i in Factories) y[i,2,j,t-1] - \n",
    "                  Demand[2,j,t] - z[j,t] -v2[j,t-1] + MaxProduction*(1.0-q2b[j,t]);\n",
    "          }"
   ]
  },
  {
   "cell_type": "code",
   "execution_count": null,
   "metadata": {
    "collapsed": false,
    "slideshow": {
     "slide_type": "fragment"
    }
   },
   "outputs": [],
   "source": [
    "for j in Products:\n",
    "    addConstr(q2[j,1] >= q2[j,0] - Demand[2,j,1] - z[j,1])\n",
    "    addConstr(q2[j,1] <= q2b[j,1]*MaxProduction)\n",
    "    addConstr(q2[j,1] <= q2[j,0] - Demand[2,j,1] - z[j,1] + MaxProduction - \n",
    "                                                  MaxProduction*q2b[j,1])\n",
    "    for t in Periods:\n",
    "        if t > 1:\n",
    "            addConstr(q2[j,t] >= q2[j,t-1] + grb.quicksum([y[i,2,j,t-1] \n",
    "                    for i in Factories])  - Demand[2,j,t] - z[j,t] - v2[j,t-1] )\n",
    "            addConstr(q2[j,t] <= q2b[j,t]*MaxProduction)\n",
    "            addConstr(q2[j,t] <= q2[j,t-1] + grb.quicksum([y[i,2,j,t-1] \n",
    "                                                        for i in Factories]) \n",
    "             - Demand[2,j,t] - z[j,t] -v2[j,t-1] + MaxProduction*(1.0-q2b[j,t]))\n",
    "        "
   ]
  },
  {
   "cell_type": "markdown",
   "metadata": {
    "slideshow": {
     "slide_type": "slide"
    }
   },
   "source": [
    "OPL Code:\n",
    "\n",
    "       // Tardy and jobs not delivered\n",
    "       forall (j in Products) {\n",
    "          v2[j,1] >= Demand[2,j,1] - q2[j,0];\n",
    "          v2[j,1] <= v2b[j,1]*MaxProduction;\n",
    "          v2[j,1] <= Demand[2,j,1] - q2[j,0] + MaxProduction*(1.0-v2b[j,1]);\n",
    "\n",
    "          v3[j,1] >= Demand[3,j,1];\n",
    "          v3[j,1] <= v3b[j,1]*MaxProduction;\n",
    "          v3[j,1] <= Demand[3,j,1] + MaxProduction*(1.0-v3b[j,1]);\n",
    "\n",
    "          forall (t in Periods : t > 1) {\n",
    "             v2[j,t] >= Demand[2,j,t] + v2[j,t-1] + z[j,t] - q2[j,t] - \n",
    "                                             sum(i in Factories) y[i,2,j,t-1];\n",
    "             v2[j,t] <= v2b[j,t]*MaxProduction;\n",
    "             v2[j,t] <= Demand[2,j,t] + v2[j,t-1] + z[j,t] - q2[j,t] - \n",
    "                     sum(i in Factories) y[i,2,j,t-1] + MaxProduction*(1.0-v2b[j,t]);\n",
    "\n",
    "             v3[j,t] >= Demand[3,j,t] + v3[j,t-1] - z[j,t-1] - \n",
    "                                                 sum(i in Factories) y[i,3,j,t-1];\n",
    "             v3[j,t] <= MaxProduction*v3b[j,t];\n",
    "             v3[j,t] <= Demand[3,j,t] + v3[j,t-1] - z[j,t-1] - \n",
    "                     sum(i in Factories) y[i,3,j,t-1] + MaxProduction*(1.0-v3b[j,t]);\n",
    "          }\n",
    "       }\n"
   ]
  },
  {
   "cell_type": "code",
   "execution_count": null,
   "metadata": {
    "collapsed": true,
    "slideshow": {
     "slide_type": "slide"
    }
   },
   "outputs": [],
   "source": [
    "for j in Products:\n",
    "    addConstr(v2[j,1] >= Demand[2,j,1] - q2[j,0])\n",
    "    addConstr(v2[j,1] <= v2b[j,1]*MaxProduction)\n",
    "    addConstr(v2[j,1] <= Demand[2,j,1] - q2[j,0] + MaxProduction*(1.0-v2b[j,1]))\n",
    "    \n",
    "    addConstr(v3[j,1] >= Demand[3,j,1])\n",
    "    addConstr(v3[j,1] <= v3b[j,1]*MaxProduction)\n",
    "    addConstr(v3[j,1] <= Demand[3,j,1] + MaxProduction*(1.0-v3b[j,1]))\n",
    "    \n",
    "    for t in Periods:\n",
    "        if t > 1:\n",
    "            addConstr(v2[j,t] >= Demand[2,j,t] + v2[j,t-1] + z[j,t] - q2[j,t] - \n",
    "                      grb.quicksum([y[i,2,j,t-1] for i in Factories]))\n",
    "            addConstr(v2[j,t] <= v2b[j,t]*MaxProduction)\n",
    "            addConstr(v2[j,t] <= Demand[2,j,t] + v2[j,t-1] + z[j,t] - q2[j,t] - \n",
    "                      grb.quicksum([y[i,2,j,t-1] for i in Factories]) + \n",
    "                                                  MaxProduction*(1.0-v2b[j,t]))\n",
    "            \n",
    "            addConstr(v3[j,t] >= Demand[3,j,t] + v3[j,t-1] - z[j,t-1] - \n",
    "                                  grb.quicksum([y[i,3,j,t-1] for i in Factories]) )\n",
    "            addConstr(v3[j,t] <= MaxProduction*v3b[j,t])\n",
    "            addConstr(v3[j,t] <= Demand[3,j,t] + v3[j,t-1] - z[j,t-1] - \n",
    "                              grb.quicksum([y[i,3,j,t-1] for i in Factories]) + \n",
    "                              MaxProduction*(1.0-v3b[j,t]))            "
   ]
  },
  {
   "cell_type": "markdown",
   "metadata": {
    "slideshow": {
     "slide_type": "slide"
    }
   },
   "source": [
    "OPL Code:\n",
    "\n",
    "       // Boundary condition\n",
    "       forall (j in Products) {\n",
    "          v3[j,0] == 0;\n",
    "          q2[j,0] == 0;\n",
    "       }"
   ]
  },
  {
   "cell_type": "code",
   "execution_count": null,
   "metadata": {
    "collapsed": false,
    "slideshow": {
     "slide_type": "fragment"
    }
   },
   "outputs": [],
   "source": [
    "[(addConstr(v3[j,0] == 0),\n",
    "  addConstr(q2[j,0] == 0) )\n",
    "     for j in Products]"
   ]
  },
  {
   "cell_type": "markdown",
   "metadata": {
    "slideshow": {
     "slide_type": "slide"
    }
   },
   "source": [
    "### After the model is created, we can write it out as an .lp file, and run the model:"
   ]
  },
  {
   "cell_type": "code",
   "execution_count": null,
   "metadata": {
    "collapsed": false,
    "slideshow": {
     "slide_type": "fragment"
    }
   },
   "outputs": [],
   "source": [
    "model.update()\n",
    "model.write('nyu_scheduling.lp')\n",
    "model.optimize()"
   ]
  },
  {
   "cell_type": "markdown",
   "metadata": {
    "slideshow": {
     "slide_type": "slide"
    }
   },
   "source": [
    "gurobi.log:\n",
    "\n",
    "    Optimize a model with 146 rows, 132 columns and 460 nonzeros\n",
    "    Coefficient statistics:\n",
    "      Matrix range    [1e-03, 3e+05]\n",
    "      Objective range [5e-02, 1e+03]\n",
    "      Bounds range    [1e+00, 3e+05]\n",
    "      RHS range       [2e+02, 4e+05]\n",
    "    Found heuristic solution: objective 4.30093e+07\n",
    "    Presolve removed 68 rows and 63 columns\n",
    "    Presolve time: 0.00s\n",
    "    Presolved: 78 rows, 69 columns, 317 nonzeros\n",
    "    Variable types: 24 continuous, 45 integer (21 binary)\n",
    "\n",
    "    Root relaxation: objective 2.893794e+06, 21 iterations, 0.00 seconds\n",
    "\n",
    "        Nodes    |    Current Node    |     Objective Bounds      |     Work\n",
    "     Expl Unexpl |  Obj  Depth IntInf | Incumbent    BestBd   Gap | It/Node Time\n",
    "\n",
    "         0     0 2893793.89    0    8 4.3009e+07 2893793.89  93.3%     -    0s\n",
    "    H    0     0                    3061001.1000 2893793.89  5.46%     -    0s\n",
    "    H    0     0                    3013257.0500 2893793.89  3.96%     -    0s\n",
    "    H    0     0                    3012125.0000 2893793.89  3.93%     -    0s\n",
    "         0     0 2919815.79    0    9 3012125.00 2919815.79  3.06%     -    0s\n",
    "         0     0 2921229.83    0   11 3012125.00 2921229.83  3.02%     -    0s\n",
    "    H    0     0                    3007493.7000 2921229.83  2.87%     -    0s\n",
    "         0     0 2953729.12    0   10 3007493.70 2953729.12  1.79%     -    0s\n",
    "    H    0     0                    3007491.6500 2953729.12  1.79%     -    0s\n",
    "         0     0 2953818.76    0   12 3007491.65 2953818.76  1.78%     -    0s\n",
    "         0     0 2967327.64    0   16 3007491.65 2967327.64  1.34%     -    0s\n",
    "         0     0 2967580.55    0   15 3007491.65 2967580.55  1.33%     -    0s\n",
    "         0     0 2978737.35    0   12 3007491.65 2978737.35  0.96%     -    0s\n",
    "         0     0 2981486.93    0   11 3007491.65 2981486.93  0.86%     -    0s\n",
    "         0     0 2982023.12    0   12 3007491.65 2982023.12  0.85%     -    0s\n",
    "         0     0 2982023.12    0   12 3007491.65 2982023.12  0.85%     -    0s\n",
    "    H    0     0                    3006991.7000 2982023.12  0.83%     -    0s\n",
    "         0     2 2982023.12    0   12 3006991.70 2982023.12  0.83%     -    0s\n",
    "    H 1942    28                    3004950.6500 2995431.37  0.32%   1.0    0s\n",
    "    * 1943    20               6    3004950.2000 2995431.37  0.32%   1.0    0s\n",
    "\n",
    "    Cutting planes:\n",
    "      Gomory: 4\n",
    "      MIR: 11\n",
    "      Flow cover: 3\n",
    "\n",
    "    Explored 2793 nodes (3337 simplex iterations) in 0.10 seconds\n",
    "    Thread count was 8 (of 8 available processors)\n",
    "\n",
    "    Optimal solution found (tolerance 1.00e-04)\n",
    "    Best objective 3.004950200000e+06, best bound 3.004950200000e+06, gap 0.0%"
   ]
  },
  {
   "cell_type": "markdown",
   "metadata": {
    "slideshow": {
     "slide_type": "slide"
    }
   },
   "source": [
    "oplrun scheduling.mod supplydata.dat\n",
    "\n",
    "    IBM ILOG CPLEX Optimization Studio Community Edition.  The CPLEX Optimizers will solve problems up to 1000 variables and 1000 constraints.\n",
    "    CP Optimizer (Community Edition) solves problems with a search space of up to 2^1000\n",
    "\n",
    "    <<< setup\n",
    "\n",
    "\n",
    "    <<< generate\n",
    "\n",
    "    Tried aggregator 3 times.\n",
    "    MIP Presolve eliminated 59 rows and 46 columns.\n",
    "    MIP Presolve modified 59 coefficients.\n",
    "    Aggregator did 17 substitutions.\n",
    "    Reduced MIP has 78 rows, 69 columns, and 316 nonzeros.\n",
    "    Reduced MIP has 21 binaries, 24 generals, 0 SOSs, and 0 indicators.\n",
    "    Presolve time = 0.00 sec. (0.55 ticks)\n",
    "    Probing fixed 0 vars, tightened 1 bounds.\n",
    "    Probing time = 0.00 sec. (0.02 ticks)\n",
    "    Tried aggregator 1 time.\n",
    "    Reduced MIP has 78 rows, 69 columns, and 316 nonzeros.\n",
    "    Reduced MIP has 21 binaries, 24 generals, 0 SOSs, and 0 indicators.\n",
    "    Presolve time = 0.00 sec. (0.14 ticks)\n",
    "    Probing time = 0.00 sec. (0.02 ticks)\n",
    "    MIP emphasis: balance optimality and feasibility.\n",
    "    MIP search method: dynamic search.\n",
    "    Parallel mode: deterministic, using up to 8 threads.\n",
    "    Root relaxation solution time = 0.00 sec. (0.18 ticks)\n",
    "\n",
    "            Nodes                                         Cuts/\n",
    "       Node  Left     Objective  IInf  Best Integer    Best Bound    ItCnt     Gap\n",
    "\n",
    "          0     0  2893793.8910     8                2893793.8910       15\n",
    "          0     0  2940205.6277     9                    Cuts: 23       30\n",
    "          0     0  2959906.2928     8                    Cuts: 14       41\n",
    "          0     0  2962498.3313     7                     Cuts: 8       45\n",
    "          0     0  2964612.9074     8                     Cuts: 6       51\n",
    "          0     0  2964819.8040    10                  MIRcuts: 4       55\n",
    "          0     0  2966480.5889     7                  MIRcuts: 3       57\n",
    "          0     0  2966537.1545     7                  MIRcuts: 2       58\n",
    "          0     0  2967783.3667     6                  MIRcuts: 1       59\n",
    "          0     0  2967898.8429     7                     Cuts: 4       61\n",
    "    *     0+    0                      3126650.0000  2967898.8429             5.08%\n",
    "    *     0+    0                      3004950.2000  2967898.8429             1.23%\n",
    "\n",
    "    Flow cuts applied:  4\n",
    "    Mixed integer rounding cuts applied:  7\n",
    "    Lift and project cuts applied:  1\n",
    "    Gomory fractional cuts applied:  7\n",
    "\n",
    "    Root node processing (before b&c):\n",
    "      Real time             =    0.01 sec. (5.61 ticks)\n",
    "    Parallel b&c, 8 threads:\n",
    "      Real time             =    0.00 sec. (0.00 ticks)\n",
    "      Sync time (average)   =    0.00 sec.\n",
    "      Wait time (average)   =    0.00 sec.\n",
    "                              ------------\n",
    "    Total (root+branch&cut) =    0.01 sec. (5.61 ticks)\n",
    "\n",
    "    <<< solve\n",
    "\n",
    "\n",
    "    OBJECTIVE: 3004950\n"
   ]
  },
  {
   "cell_type": "markdown",
   "metadata": {
    "slideshow": {
     "slide_type": "slide"
    }
   },
   "source": [
    "OPL Display solution:\n",
    "    \n",
    "    // Report solution values\n",
    "    float TotProdCost    = sum (t in Periods, j in Products, i in Factories)\n",
    "                ProdCost[i,j]*x[i,j,t];\n",
    "    float TotMovCost_FDC = sum (t in Periods, j in Products, i in Factories) \n",
    "                MovCost_FDC[i]*y[i,2,j,t];\n",
    "    float TotMovCost_FC  = sum (t in Periods, j in Products, i in Factories) \n",
    "                MovCost_FC[i]*y[i,3,j,t];\n",
    "    float TotMovCost_DCC = sum (t in Periods, j in Products)                 \n",
    "                MovCost_DCC*z[j,t];\n",
    "    float TotHoldCost    = sum (t in Periods, j in Products)                 \n",
    "                HoldCost*q2[j,t];\n",
    "    float TotTardCost_DC = sum (t in 1..Nperiods-1, j in Products)       \n",
    "                7*TardCost_DC[j]*v2[j,t];\n",
    "    float TotTardCost_C  = sum (t in 1..Nperiods-1, j in Products)       \n",
    "                7*TardCost_C[j]*v3[j,t];\n",
    "    float TotPenalty     = sum (j in Products)                               \n",
    "                Penalty*(v2[j,Nperiods] + v3[j,Nperiods]);\n",
    "\n",
    "    float TotY[i in Factories, k in Stages, t in Periods] = \n",
    "                sum (j in Products) y[i,k,j,t];\n",
    "\n",
    "    execute DISPLAY {\n",
    "       writeln(\"Total Production Cost:  \", TotProdCost);\n",
    "       writeln(\"Total Move Cost FDC:    \", TotMovCost_FDC);\n",
    "       writeln(\"Total Move Cost FC:     \", TotMovCost_FC);\n",
    "       writeln(\"Total Move Cost DCC:    \", TotMovCost_DCC);\n",
    "       writeln(\"Total Hold Cost:        \", TotHoldCost);\n",
    "       writeln(\"Total Tardy Cost DC:    \", TotTardCost_DC);\n",
    "       writeln(\"Total Tardy Cost C:     \", TotTardCost_C);\n",
    "       writeln(\"Total Penalty:          \", TotPenalty);\n",
    "\n",
    "       for (i in Factories)\n",
    "          for (k in Stages)\n",
    "             for (t in Periods)\n",
    "                writeln(\"y[\", i, \",\", k, \",*,\", t, \"] = \", TotY[i][k][t]);   "
   ]
  },
  {
   "cell_type": "markdown",
   "metadata": {
    "slideshow": {
     "slide_type": "slide"
    }
   },
   "source": [
    "Change OPL writeln to python print:"
   ]
  },
  {
   "cell_type": "code",
   "execution_count": null,
   "metadata": {
    "collapsed": false,
    "slideshow": {
     "slide_type": "fragment"
    }
   },
   "outputs": [],
   "source": [
    "TotProdCost    = sum([ProdCost[i,j]*x[i,j,t].x for t in Periods \n",
    "                                               for j in Products \n",
    "                                               for i in Factories])\n",
    "TotMovCost_FDC = sum([MovCost_FDC[i]*y[i,2,j,t].x for t in Periods \n",
    "                                                  for j in Products \n",
    "                                                  for i in Factories]) \n",
    "TotMovCost_FC  = sum([MovCost_FC[i]*y[i,3,j,t].x for t in Periods \n",
    "                                                 for j in Products \n",
    "                                                 for i in Factories]) \n",
    "TotMovCost_DCC = sum([MovCost_DCC*z[j,t].x for t in Periods \n",
    "                                           for j in Products])                 \n",
    "TotHoldCost    = sum([HoldCost*q2[j,t].x for t in Periods \n",
    "                                         for j in Products])                 \n",
    "TotTardCost_DC = sum([7*TardCost_DC[j]*v2[j,t].x for t in Periods[:-1] \n",
    "                                                 for j in Products])        \n",
    "TotTardCost_C  = sum([7*TardCost_C[j]*v3[j,t].x for t in Periods[:-1] \n",
    "                                                for j in Products])       \n",
    "TotPenalty     = sum([Penalty*(v2[j,Nperiods].x + v3[j,Nperiods].x) \n",
    "                                              for j in Products])\n",
    "\n",
    "TotY = {(i,k,t) : sum([y[i,k,j,t].x for j in Products]) for i in Factories \n",
    "                                                        for k in Stages \n",
    "                                                        for t in Periods }\n",
    "print(\"Total Production Cost:  \", TotProdCost);\n",
    "print(\"Total Move Cost FDC:    \", TotMovCost_FDC);\n",
    "print(\"Total Move Cost FC:     \", TotMovCost_FC);\n",
    "print(\"Total Move Cost DCC:    \", TotMovCost_DCC);\n",
    "print(\"Total Hold Cost:        \", TotHoldCost);\n",
    "print(\"Total Tardy Cost DC:    \", TotTardCost_DC);\n",
    "print(\"Total Tardy Cost C:     \", TotTardCost_C);\n",
    "print(\"Total Penalty:          \", TotPenalty);\n",
    "   \n",
    "for i in Factories:\n",
    "    for k in Stages:\n",
    "        for t in Periods:\n",
    "            print(\"y[\", i, \",\", k, \",*,\", t, \"].x = \", TotY[i,k,t])\n"
   ]
  },
  {
   "cell_type": "markdown",
   "metadata": {
    "slideshow": {
     "slide_type": "slide"
    }
   },
   "source": [
    "oplrun scheduling.mod supplydata.dat\n",
    "\n",
    "    Total Production Cost:  153667\n",
    "    Total Move Cost FDC:    47033.2\n",
    "    Total Move Cost FC:     4250\n",
    "    Total Move Cost DCC:    0\n",
    "    Total Hold Cost:        0\n",
    "    Total Tardy Cost DC:    1400000\n",
    "    Total Tardy Cost C:     1400000\n",
    "    Total Penalty:          0\n",
    "    y[1,2,*,1] = 47334\n",
    "    y[1,2,*,2] = 20000\n",
    "    y[1,2,*,3] = 50000\n",
    "    y[1,2,*,4] = 0\n",
    "    y[1,3,*,1] = 0\n",
    "    y[1,3,*,2] = 0\n",
    "    y[1,3,*,3] = 2334\n",
    "    y[1,3,*,4] = 0\n",
    "    y[2,2,*,1] = 52666\n",
    "    y[2,2,*,2] = 25000\n",
    "    y[2,2,*,3] = 40000\n",
    "    y[2,2,*,4] = 0\n",
    "    y[2,3,*,1] = 25000\n",
    "    y[2,3,*,2] = 15000\n",
    "    y[2,3,*,3] = 42666\n",
    "    y[2,3,*,4] = 0"
   ]
  },
  {
   "cell_type": "markdown",
   "metadata": {
    "collapsed": true,
    "slideshow": {
     "slide_type": "slide"
    }
   },
   "source": [
    "Python Output:\n",
    "\n",
    "    Total Production Cost:   153667.0\n",
    "    Total Move Cost FDC:     47033.2\n",
    "    Total Move Cost FC:      4250.0\n",
    "    Total Move Cost DCC:     0.0\n",
    "    Total Hold Cost:         7.27595761418e-13\n",
    "    Total Tardy Cost DC:     1400000.0\n",
    "    Total Tardy Cost C:      1400000.0\n",
    "    Total Penalty:           0.0\n",
    "    y[ 1 , 2 ,*, 1 ].x =  47334.0\n",
    "    y[ 1 , 2 ,*, 2 ].x =  20000.0\n",
    "    y[ 1 , 2 ,*, 3 ].x =  50000.0\n",
    "    y[ 1 , 2 ,*, 4 ].x =  0.0\n",
    "    y[ 1 , 3 ,*, 1 ].x =  0.0\n",
    "    y[ 1 , 3 ,*, 2 ].x =  0.0\n",
    "    y[ 1 , 3 ,*, 3 ].x =  2334.0\n",
    "    y[ 1 , 3 ,*, 4 ].x =  0.0\n",
    "    y[ 2 , 2 ,*, 1 ].x =  52666.0\n",
    "    y[ 2 , 2 ,*, 2 ].x =  25000.0\n",
    "    y[ 2 , 2 ,*, 3 ].x =  40000.0\n",
    "    y[ 2 , 2 ,*, 4 ].x =  0.0\n",
    "    y[ 2 , 3 ,*, 1 ].x =  25000.0\n",
    "    y[ 2 , 3 ,*, 2 ].x =  15000.0\n",
    "    y[ 2 , 3 ,*, 3 ].x =  42666.0\n",
    "    y[ 2 , 3 ,*, 4 ].x =  0.0\n",
    "    \n",
    "This output matches the OPL output."
   ]
  },
  {
   "cell_type": "markdown",
   "metadata": {
    "slideshow": {
     "slide_type": "slide"
    }
   },
   "source": [
    "# End of slides"
   ]
  }
 ],
 "metadata": {
  "celltoolbar": "Slideshow",
  "kernelspec": {
   "display_name": "Python 2",
   "language": "python",
   "name": "python2"
  },
  "language_info": {
   "codemirror_mode": {
    "name": "ipython",
    "version": 2
   },
   "file_extension": ".py",
   "mimetype": "text/x-python",
   "name": "python",
   "nbconvert_exporter": "python",
   "pygments_lexer": "ipython2",
   "version": "2.7.11"
  }
 },
 "nbformat": 4,
 "nbformat_minor": 0
}
