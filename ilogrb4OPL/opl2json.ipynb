{
 "cells": [
  {
   "cell_type": "markdown",
   "metadata": {},
   "source": [
    "# Convert OPL dat file to JSON\n",
    "\n",
    "## Uses pyparsing\n",
    "\n",
    "## Scroll down to input your filename\n",
    "\n",
    "This will not handle some OPL statements, and you will need to clear the .dat file of these statements before converting to json:\n",
    "* prepare { ... }\n",
    "* DBConnection, read from DB, write to DB\n",
    "* SheetConnection, read from xls, write to xls"
   ]
  },
  {
   "cell_type": "code",
   "execution_count": 1,
   "metadata": {
    "collapsed": true
   },
   "outputs": [],
   "source": [
    "from __future__ import print_function\n",
    "import pyparsing as pp"
   ]
  },
  {
   "cell_type": "code",
   "execution_count": 2,
   "metadata": {
    "collapsed": false
   },
   "outputs": [
    {
     "name": "stdout",
     "output_type": "stream",
     "text": [
      "['56']\n",
      "['0']\n",
      "['+34']\n",
      "['-7']\n",
      "['45.67']\n",
      "['0.5']\n",
      "['5']\n",
      "['this']\n",
      "['\"that\"']\n"
     ]
    }
   ],
   "source": [
    "# general parsing expressions\n",
    "\n",
    "open_bracket = pp.Literal('[')\n",
    "close_bracket = pp.Literal(']')\n",
    "open_brace = pp.Literal('{')\n",
    "close_brace = pp.Literal('}')\n",
    "open_angle = pp.Literal('<')\n",
    "close_angle = pp.Literal('>')\n",
    "\n",
    "zero = pp.Literal('0')\n",
    "\n",
    "def pr_unsigned_int(toks):     # remove leading 0's; JSON does not support leading 0's!\n",
    "    if len(toks[0]) > 1:\n",
    "        while toks[0][0] == '0':\n",
    "            toks[0] = toks[0][1:]\n",
    "    return toks\n",
    "\n",
    "unsigned_int = pp.Word(pp.nums)\n",
    "unsigned_int.setParseAction(pr_unsigned_int)\n",
    "\n",
    "integer = pp.Combine( pp.Optional(pp.oneOf(\"+ -\")) + unsigned_int)\n",
    "real = pp.Combine( pp.Optional(pp.oneOf(\"+ -\")) + pp.Word(pp.nums) + \".\" + pp.Optional(pp.Word(pp.nums)) )\n",
    "number =  real ^ integer      # order is important!\n",
    "\n",
    "identifier = pp.Word( pp.alphas, pp.alphanums+\"_\" )\n",
    "token = pp.Word( pp.alphanums+\"_[]-()\", pp.alphanums+\"_[]-()\" )\n",
    "atom = integer | identifier\n",
    "\n",
    "field_item = number | pp.dblQuotedString | identifier\n",
    "\n",
    "end_stmnt = pp.Literal(';').suppress()\n",
    "\n",
    "testStrings = [ \n",
    " '56',\n",
    " '0',\n",
    " '+34',\n",
    " '-007',\n",
    " '45.67',\n",
    " '0.5',\n",
    " '05',\n",
    " 'this',\n",
    " '\"that\"']\n",
    "\n",
    "for testStr in testStrings:\n",
    "    assert(field_item.parseString(testStr))\n",
    "    print(field_item.parseString(testStr))"
   ]
  },
  {
   "cell_type": "code",
   "execution_count": 3,
   "metadata": {
    "collapsed": false
   },
   "outputs": [
    {
     "name": "stdout",
     "output_type": "stream",
     "text": [
      "['[ 0.001, 0.002 ]']\n",
      "['[ 0, 50000, 30000, 50000 ]']\n",
      "['[ 35, 15, 40, 15, 5, 10, 5, 10, 5, 5 ]']\n",
      "['[ [ 0, 1 ], [ 1, 0 ] ]']\n",
      "['[ [ 0, 1 ], [ 1, 0 ] ]']\n",
      "['[ [ 0, 1 ], [ 1, 0 ] ]']\n",
      "['[ [ 0, 1 ], [ 1, 0 ] ]']\n",
      "['[ \"L\", 1, 2, 1, 10000 ]']\n",
      "['[ \"L\", 1, 2, 1, 10000 ]']\n",
      "['[ [ \"L\", 1, 2, 1, 10000 ], [ \"U\", 2, 2, 2, 10000 ] ]']\n",
      "['[ [ 1, 1, 3, 1400 ], [ 1, 2, 5, 800 ], [ 1, 3, 1, 2000 ], [ 2, 1, 6, 1250 ], [ 3, 1, 3, 1000 ], [ 3, 2, 1, 500 ], [ 3, 3, 4, 300 ], [ 4, 1, 1, 800 ], [ 4, 2, 4, 1600 ], [ 5, 1, 5, 900 ], [ 6, 1, 5, 2250 ], [ 6, 2, 6, 1125 ], [ 6, 3, 2, 1800 ], [ 7, 1, 5, 2000 ], [ 7, 2, 2, 1000 ] ]']\n"
     ]
    }
   ],
   "source": [
    "# parse arrays (add commas if not already present)\n",
    "# output is json style arrays\n",
    "testStrings = [ \n",
    " '[ 0.001,  0.002 ]',\n",
    " '[ 0     50000 30000 50000 ]',\n",
    " '[ 35, 15, 40, 15, 05, 10, 05, 10, 05, 05 ]',\n",
    " '[[0,1], [1,0]]',\n",
    " '[[0 1] [1 0]]',\n",
    " '[[0, 1] [1, 0]]',\n",
    " '[[0 1], [1 0]]',\n",
    "     '  < \"L\", 1, 2, 1, 10000 >',\n",
    "     '  < \"L\"  1  2  1  10000 >',\n",
    "    \"\"\"\n",
    "    {\n",
    "   < \"L\", 1, 2, 1, 10000 >\n",
    "   < \"U\", 2, 2, 2, 10000 >\n",
    "       }\n",
    "\"\"\",\n",
    "    \"\"\"\n",
    "{<1,1,3,1400>,     <1,2,5,800>,     <1,3,1,2000>, \n",
    "     <2,1,6,1250>, \n",
    "     <3,1,3,1000>,     <3,2,1,500>,     <3,3,4,300>, \n",
    "     <4,1,1,800>,     <4,2,4,1600>, \n",
    "     <5,1,5,900>, \n",
    "     <6,1,5,2250>,     <6,2,6,1125>,     <6,3,2,1800>, \n",
    "     <7,1,5,2000>,     <7,2,2,1000> \n",
    "     }\n",
    "\"\"\"              \n",
    "]\n",
    "\n",
    "def pr_array(toks):\n",
    "    return '[ ' + ', '.join(toks) + ' ]'\n",
    "\n",
    "open_list = open_brace | open_bracket | open_angle\n",
    "close_list = close_brace | close_bracket | close_angle\n",
    "\n",
    "opl_array = pp.Forward()\n",
    "opl_array << open_list.suppress() + (pp.OneOrMore(opl_array) ^ pp.delimitedList(opl_array) \n",
    "                                   ^ pp.OneOrMore(field_item) ^ pp.delimitedList(field_item)) + \\\n",
    "            close_list.suppress()\n",
    "opl_array.setParseAction(pr_array)\n",
    "\n",
    "for testStr in testStrings:\n",
    "    assert(opl_array.parseString(testStr))\n",
    "    print(opl_array.parseString(testStr))"
   ]
  },
  {
   "cell_type": "code",
   "execution_count": 4,
   "metadata": {
    "collapsed": false
   },
   "outputs": [
    {
     "name": "stdout",
     "output_type": "stream",
     "text": [
      "['# Factory 1\\n']\n",
      "['# --------------------------------------------------------------------------\\n']\n"
     ]
    }
   ],
   "source": [
    "# parse // comments\n",
    "# all comments ignored, json does not support comments\n",
    "testStrings = [ \n",
    " '// Factory 1',\n",
    " '// --------------------------------------------------------------------------']\n",
    "\n",
    "#dslash_lit = pp.Literal('//')\n",
    "#opl_comment = dslash_lit + pp.restOfLine\n",
    "\n",
    "def pr_comment(tok):\n",
    "    return '{}\\n'.format(tok[0].replace('//','#'))\n",
    "\n",
    "opl_comment = pp.dblSlashComment | pp.cStyleComment\n",
    "opl_comment.setParseAction(pr_comment)\n",
    "\n",
    "for testStr in testStrings:\n",
    "    assert(opl_comment.parseString(testStr))\n",
    "    print(opl_comment.parseString(testStr))"
   ]
  },
  {
   "cell_type": "code",
   "execution_count": 5,
   "metadata": {
    "collapsed": false
   },
   "outputs": [
    {
     "name": "stdout",
     "output_type": "stream",
     "text": [
      "['{\\n\"1\": [ 0.001, 0.002 ],\\n\"2\": [ 0.002, 0.003 ]\\n}']\n",
      "['{\\n\"2\": {\\n\"1\": [ 20000, 30000, 15000, 40000 ],\\n\"2\": [ 0, 50000, 30000, 50000 ]\\n},\\n\"3\": {\\n\"1\": [ 10000, 5000, 15000, 40000 ],\\n\"2\": [ 0, 10000, 0, 5000 ]\\n}\\n}']\n"
     ]
    }
   ],
   "source": [
    "# parse keyed arrays #[ key : value ]#  =>  { key : value }\n",
    "# output json style dictionaries\n",
    "testStrings = [ \"\"\"\n",
    "    #[\n",
    "        1: [ 0.001  0.002 ]   // Factory 1\n",
    "        2: [ 0.002  0.003 ]   // Factory 2\n",
    "    ]#\n",
    "\"\"\",\n",
    "\"\"\"\n",
    "    #[ \n",
    "      2: #[ // Stage 2\n",
    "         1: [ 20000 30000 15000 40000 ]  // Product 1\n",
    "         2: [ 0     50000 30000 50000 ]  // Product 2\n",
    "          ]#\n",
    "      3: #[ // Stage 3\n",
    "         1: [ 10000 5000  15000 40000 ]  // Product 1\n",
    "         2: [ 0     10000     0  5000 ]  // Product 2\n",
    "          ]#\n",
    "    ]#\n",
    "\"\"\"              \n",
    "]\n",
    "\n",
    "dict_beg = pp.Literal('#[') | pp.Literal('#<')\n",
    "dict_end = pp.Literal(']#') | pp.Literal('>#')\n",
    "dict_key = field_item\n",
    "colon_lit = pp.Literal(':')\n",
    "opl_dict = pp.Forward()\n",
    "dict_value = opl_array | field_item | opl_dict\n",
    "\n",
    "def pr_entry(toks):\n",
    "    if toks[0][0] == '\"':\n",
    "        return \" \".join(toks)\n",
    "    else:\n",
    "        return '\"' + toks[0] + '\"' + \" \".join(toks[1:])\n",
    "\n",
    "dict_entry = dict_key + colon_lit + (pp.Optional(opl_comment)).suppress() + dict_value + \\\n",
    "                                    (pp.Optional(opl_comment)).suppress()\n",
    "dict_entry.setParseAction(pr_entry)\n",
    "\n",
    "def pr_dict(toks):\n",
    "    return  '{\\n' + ',\\n'.join(toks) + '\\n}'\n",
    "\n",
    "opl_dict << dict_beg.suppress() + (pp.Optional(opl_comment)).suppress() + \\\n",
    "                                    (pp.OneOrMore(dict_entry) ^ pp.delimitedList(dict_entry)) + \\\n",
    "                                 (pp.Optional(opl_comment)).suppress() + \\\n",
    "            dict_end.suppress()\n",
    "opl_dict.setParseAction(pr_dict)\n",
    "\n",
    "for testStr in testStrings:\n",
    "    assert(opl_dict.parseString(testStr))\n",
    "    print(opl_dict.parseString(testStr))"
   ]
  },
  {
   "cell_type": "code",
   "execution_count": 6,
   "metadata": {
    "collapsed": false
   },
   "outputs": [
    {
     "data": {
      "text/plain": [
       "{{Group:({{{W:(abcd...,abcd...) \"=\"} {{{Combine:({[Re:('[+\\\\-]')] W:(0123...) \".\" [W:(0123...)]}) ^ Combine:({[Re:('[+\\\\-]')] W:(0123...)})} | Forward: {Suppress:({\"{\" | \"[\" | \"<\"}) {{...}... ^ Forward: None [, Forward: None]... ^ {{{Combine:({[Re:('[+\\\\-]')] W:(0123...) \".\" [W:(0123...)]}) ^ Combine:({[Re:('[+\\\\-]')] W:(0123...)})} | string enclosed in double quotes | W:(abcd...,abcd...)}}... ^ {{Combine:({[Re:('[+\\\\-]')] W:(0123...) \".\" [W:(0123...)]}) ^ Combine:({[Re:('[+\\\\-]')] W:(0123...)})} | string enclosed in double quotes | W:(abcd...,abcd...)} [, {{Combine:({[Re:('[+\\\\-]')] W:(0123...) \".\" [W:(0123...)]}) ^ Combine:({[Re:('[+\\\\-]')] W:(0123...)})} | string enclosed in double quotes | W:(abcd...,abcd...)}]...} Suppress:({\"}\" | \"]\" | \">\"})}} | Forward: {Suppress:({\"#[\" | \"#<\"}) Suppress:([{// comment | C style comment}]) {{{{{Combine:({[Re:('[+\\\\-]')] W:(0123...) \".\" [W:(0123...)]}) ^ Combine:({[Re:('[+\\\\-]')] W:(0123...)})} | string enclosed in double quotes | W:(abcd...,abcd...)} \":\" Suppress:([{// comment | C style comment}]) {Forward: {Suppress:({\"{\" | \"[\" | \"<\"}) {{...}... ^ Forward: None [, Forward: None]... ^ {{{Combine:({[Re:('[+\\\\-]')] W:(0123...) \".\" [W:(0123...)]}) ^ Combine:({[Re:('[+\\\\-]')] W:(0123...)})} | string enclosed in double quotes | W:(abcd...,abcd...)}}... ^ {{Combine:({[Re:('[+\\\\-]')] W:(0123...) \".\" [W:(0123...)]}) ^ Combine:({[Re:('[+\\\\-]')] W:(0123...)})} | string enclosed in double quotes | W:(abcd...,abcd...)} [, {{Combine:({[Re:('[+\\\\-]')] W:(0123...) \".\" [W:(0123...)]}) ^ Combine:({[Re:('[+\\\\-]')] W:(0123...)})} | string enclosed in double quotes | W:(abcd...,abcd...)}]...} Suppress:({\"}\" | \"]\" | \">\"})} | {Combine:({[Re:('[+\\\\-]')] W:(0123...) \".\" [W:(0123...)]}) ^ Combine:({[Re:('[+\\\\-]')] W:(0123...)})} | string enclosed in double quotes | W:(abcd...,abcd...) | ...} Suppress:([{// comment | C style comment}])}}... ^ {{{{{{Combine:({[Re:('[+\\\\-]')] W:(0123...) \".\" [W:(0123...)]}) ^ Combine:({[Re:('[+\\\\-]')] W:(0123...)})} | string enclosed in double quotes | W:(abcd...,abcd...)} \":\"} Suppress:([{// comment | C style comment}])} {{Forward: {Suppress:({\"{\" | \"[\" | \"<\"}) {{...}... ^ Forward: None [, Forward: None]... ^ {{{Combine:({[Re:('[+\\\\-]')] W:(0123...) \".\" [W:(0123...)]}) ^ Combine:({[Re:('[+\\\\-]')] W:(0123...)})} | string enclosed in double quotes | W:(abcd...,abcd...)}}... ^ {{Combine:({[Re:('[+\\\\-]')] W:(0123...) \".\" [W:(0123...)]}) ^ Combine:({[Re:('[+\\\\-]')] W:(0123...)})} | string enclosed in double quotes | W:(abcd...,abcd...)} [, {{Combine:({[Re:('[+\\\\-]')] W:(0123...) \".\" [W:(0123...)]}) ^ Combine:({[Re:('[+\\\\-]')] W:(0123...)})} | string enclosed in double quotes | W:(abcd...,abcd...)}]...} Suppress:({\"}\" | \"]\" | \">\"})} | {{Combine:({[Re:('[+\\\\-]')] W:(0123...) \".\" [W:(0123...)]}) ^ Combine:({[Re:('[+\\\\-]')] W:(0123...)})} | string enclosed in double quotes | W:(abcd...,abcd...)}} | Forward: None}} Suppress:([{// comment | C style comment}])} [, {{{{{{Combine:({[Re:('[+\\\\-]')] W:(0123...) \".\" [W:(0123...)]}) ^ Combine:({[Re:('[+\\\\-]')] W:(0123...)})} | string enclosed in double quotes | W:(abcd...,abcd...)} \":\"} Suppress:([{// comment | C style comment}])} {{Forward: {Suppress:({\"{\" | \"[\" | \"<\"}) {{...}... ^ Forward: None [, Forward: None]... ^ {{{Combine:({[Re:('[+\\\\-]')] W:(0123...) \".\" [W:(0123...)]}) ^ Combine:({[Re:('[+\\\\-]')] W:(0123...)})} | string enclosed in double quotes | W:(abcd...,abcd...)}}... ^ {{Combine:({[Re:('[+\\\\-]')] W:(0123...) \".\" [W:(0123...)]}) ^ Combine:({[Re:('[+\\\\-]')] W:(0123...)})} | string enclosed in double quotes | W:(abcd...,abcd...)} [, {{Combine:({[Re:('[+\\\\-]')] W:(0123...) \".\" [W:(0123...)]}) ^ Combine:({[Re:('[+\\\\-]')] W:(0123...)})} | string enclosed in double quotes | W:(abcd...,abcd...)}]...} Suppress:({\"}\" | \"]\" | \">\"})} | {{Combine:({[Re:('[+\\\\-]')] W:(0123...) \".\" [W:(0123...)]}) ^ Combine:({[Re:('[+\\\\-]')] W:(0123...)})} | string enclosed in double quotes | W:(abcd...,abcd...)}} | Forward: None}} Suppress:([{// comment | C style comment}])}]...} Suppress:([{// comment | C style comment}]) Suppress:({\"]#\" | \">#\"})}}} Suppress:(\";\")}) | Suppress:({// comment | C style comment})}}..."
      ]
     },
     "execution_count": 6,
     "metadata": {},
     "output_type": "execute_result"
    }
   ],
   "source": [
    "def pr_stmnt(toks=None):\n",
    "    if toks:\n",
    "        #print(toks)\n",
    "        return ' '.join(toks[0])\n",
    "    else:\n",
    "        return None\n",
    "\n",
    "opl_expr = number | opl_array | opl_dict \n",
    "\n",
    "def add_quotes(tok):\n",
    "    return '\"' + tok[0] + '\"'\n",
    "\n",
    "equal_lit = pp.Literal('=').setParseAction(pp.replaceWith(\":\"))\n",
    "opl_assign = pp.Group(identifier.setParseAction(add_quotes) + equal_lit + opl_expr + end_stmnt)\n",
    "opl_stmnt = opl_assign | opl_comment.suppress()\n",
    "opl_stmnt.setParseAction(pr_stmnt)\n",
    "\n",
    "def pr_opldat(toks):\n",
    "    return '{\\n' + ',\\n\\n'.join(toks) + '\\n}'\n",
    "\n",
    "opldat = pp.OneOrMore(opl_stmnt)\n",
    "opldat.setParseAction(pr_opldat)"
   ]
  },
  {
   "cell_type": "markdown",
   "metadata": {},
   "source": [
    "# To convert an OPL dat file to a JSON file,  just fill in the filename below and run this cell\n",
    "\n",
    "## JSON will be printed as cell output and saved in a file with json extension"
   ]
  },
  {
   "cell_type": "code",
   "execution_count": 7,
   "metadata": {
    "collapsed": false
   },
   "outputs": [
    {
     "name": "stdout",
     "output_type": "stream",
     "text": [
      "{\n",
      "\"RequiredLotSize\" : 0,\n",
      "\n",
      "\"Demand\" : {\n",
      "\"2\": {\n",
      "\"1\": [ 20000, 30000, 15000, 40000 ],\n",
      "\"2\": [ 0, 50000, 30000, 50000 ]\n",
      "},\n",
      "\"3\": {\n",
      "\"1\": [ 10000, 5000, 15000, 40000 ],\n",
      "\"2\": [ 0, 10000, 0, 5000 ]\n",
      "}\n",
      "},\n",
      "\n",
      "\"ProdCost\" : {\n",
      "\"1\": [ 1, 0.5 ],\n",
      "\"2\": [ 0.5, 0.25 ]\n",
      "},\n",
      "\n",
      "\"ProdTime\" : {\n",
      "\"1\": [ 0.001, 0.002 ],\n",
      "\"2\": [ 0.002, 0.003 ]\n",
      "},\n",
      "\n",
      "\"HoldCost\" : 0.1,\n",
      "\n",
      "\"MovCost_FDC\" : [ 0.1, 0.3 ],\n",
      "\n",
      "\"MovCost_FC\" : [ 0.05, 0.05 ],\n",
      "\n",
      "\"MovCost_DCC\" : 0.5,\n",
      "\n",
      "\"TardCost_DC\" : [ 10, 5 ],\n",
      "\n",
      "\"TardCost_C\" : [ 20, 15 ],\n",
      "\n",
      "\"Penalty\" : 1000,\n",
      "\n",
      "\"bnds\" : [ [ \"L\", 1, 2, 1, 10000 ], [ \"U\", 2, 2, 2, 10000 ] ]\n",
      "}\n"
     ]
    }
   ],
   "source": [
    "filename = 'supplydata.dat'\n",
    "#filename = join(join(example_dir,'fixed'),'fixed.dat'))\n",
    "\n",
    "po = opldat.parseFile(filename)\n",
    "\n",
    "if filename[-3:] == 'dat':\n",
    "    jsonfile = filename[:-3] + 'json'\n",
    "else:\n",
    "    jsonfile = filename + 'json'\n",
    "    \n",
    "with open(jsonfile, 'w') as g:\n",
    "    for item in po:\n",
    "        print(item)\n",
    "        g.write(item)"
   ]
  }
 ],
 "metadata": {
  "kernelspec": {
   "display_name": "Python 2",
   "language": "python",
   "name": "python2"
  },
  "language_info": {
   "codemirror_mode": {
    "name": "ipython",
    "version": 2
   },
   "file_extension": ".py",
   "mimetype": "text/x-python",
   "name": "python",
   "nbconvert_exporter": "python",
   "pygments_lexer": "ipython2",
   "version": "2.7.11"
  }
 },
 "nbformat": 4,
 "nbformat_minor": 0
}
